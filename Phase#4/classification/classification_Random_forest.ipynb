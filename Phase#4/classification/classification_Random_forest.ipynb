{
  "nbformat": 4,
  "nbformat_minor": 0,
  "metadata": {
    "colab": {
      "name": "Random_forest",
      "provenance": [],
      "collapsed_sections": [],
      "toc_visible": true
    },
    "kernelspec": {
      "name": "python3",
      "display_name": "Python 3"
    },
    "language_info": {
      "name": "python"
    }
  },
  "cells": [
    {
      "cell_type": "code",
      "metadata": {
        "id": "VubsA_ao3W_j"
      },
      "source": [
        "import sklearn\n",
        "#from config import config\n",
        "import psycopg2\n",
        "from psycopg2 import Error\n",
        "import pandas.io.sql as psql\n",
        "import pandas as pd\n",
        "from sklearn import preprocessing\n",
        "from sklearn.preprocessing import OneHotEncoder\n",
        "import numpy as np\n",
        "# from sklearn.linear_model import LogisticRegression\n",
        "from sklearn.tree import DecisionTreeClassifier\n",
        "from imblearn.under_sampling import NearMiss\n",
        "from sklearn.feature_selection import RFECV\n",
        "\n",
        "import matplotlib.pylab as plt\n",
        "%matplotlib inline\n",
        "from matplotlib.pylab import rcParams\n",
        "rcParams['figure.figsize'] = 12, 4"
      ],
      "execution_count": null,
      "outputs": []
    },
    {
      "cell_type": "code",
      "metadata": {
        "id": "6pidYn156UuL"
      },
      "source": [
        "combined_df_normalized_encoded_fs.to_csv('main_df', sep=',', encoding='utf-8')"
      ],
      "execution_count": null,
      "outputs": []
    },
    {
      "cell_type": "code",
      "metadata": {
        "colab": {
          "base_uri": "https://localhost:8080/"
        },
        "id": "g1g3cuS080e-",
        "outputId": "c8582c56-1145-4056-a50e-a801592e9adf"
      },
      "source": [
        "main_df = combined_df_normalized_encoded_fs\n",
        "print(main_df.head(20))\n",
        "print(main_df.shape)"
      ],
      "execution_count": null,
      "outputs": [
        {
          "output_type": "stream",
          "text": [
            "    municipality_Halton  municipality_Ottawa  ...  test_facility_id  age_group\n",
            "0                   0.0                  1.0  ...               3.0       50.0\n",
            "1                   0.0                  0.0  ...               4.0       80.0\n",
            "2                   0.0                  0.0  ...               4.0       30.0\n",
            "3                   0.0                  0.0  ...               4.0       90.0\n",
            "4                   0.0                  0.0  ...               5.0       40.0\n",
            "5                   0.0                  0.0  ...               5.0       40.0\n",
            "6                   0.0                  0.0  ...               5.0       40.0\n",
            "7                   0.0                  0.0  ...               5.0       40.0\n",
            "8                   0.0                  0.0  ...               5.0       40.0\n",
            "9                   0.0                  0.0  ...               5.0       40.0\n",
            "10                  0.0                  0.0  ...               5.0       40.0\n",
            "11                  0.0                  0.0  ...               5.0       40.0\n",
            "12                  0.0                  0.0  ...               4.0       90.0\n",
            "13                  0.0                  0.0  ...               4.0       90.0\n",
            "14                  0.0                  0.0  ...               4.0       90.0\n",
            "15                  0.0                  0.0  ...               4.0       90.0\n",
            "16                  0.0                  0.0  ...               4.0       90.0\n",
            "17                  0.0                  0.0  ...               4.0       90.0\n",
            "18                  0.0                  0.0  ...               4.0       90.0\n",
            "19                  0.0                  0.0  ...               4.0       90.0\n",
            "\n",
            "[20 rows x 29 columns]\n",
            "(44953, 29)\n"
          ],
          "name": "stdout"
        }
      ]
    },
    {
      "cell_type": "markdown",
      "metadata": {
        "id": "JnC72gPw9EGo"
      },
      "source": [
        "# **PART B Classification**"
      ]
    },
    {
      "cell_type": "code",
      "metadata": {
        "id": "OqtZ58Y79L9O"
      },
      "source": [
        "X = main_df.iloc[:, 0:28]\n",
        "y = main_df.iloc[:, 28]"
      ],
      "execution_count": null,
      "outputs": []
    },
    {
      "cell_type": "code",
      "metadata": {
        "id": "1LKg_S51-CeI"
      },
      "source": [
        "from sklearn.metrics import precision_recall_fscore_support as score\n",
        "from sklearn.feature_selection import SelectKBest, f_classif, mutual_info_classif, RFE\n",
        "from sklearn.ensemble import RandomForestClassifier\n",
        "from sklearn.tree import DecisionTreeClassifier\n",
        "from sklearn import svm\n",
        "from sklearn.model_selection import KFold, StratifiedKFold\n",
        "from sklearn.linear_model import LogisticRegression\n",
        "from sklearn.naive_bayes import GaussianNB \n",
        "from sklearn.neighbors import KNeighborsClassifier\n",
        "from sklearn.neural_network import MLPClassifier\n",
        "from sklearn.metrics import accuracy_score, f1_score, precision_score, recall_score\n",
        "from sklearn.metrics import confusion_matrix, classification_report"
      ],
      "execution_count": null,
      "outputs": []
    },
    {
      "cell_type": "markdown",
      "metadata": {
        "id": "Sl6_BFve-JoE"
      },
      "source": [
        "## K-FOLD CROSS VALIDATION"
      ]
    },
    {
      "cell_type": "code",
      "metadata": {
        "colab": {
          "base_uri": "https://localhost:8080/"
        },
        "id": "zXn0fcIG-DVg",
        "outputId": "c2188c56-7f46-4221-f44e-81d80278a38d"
      },
      "source": [
        "k = 5\n",
        "skf = KFold(n_splits=k, random_state=0)\n",
        "model = RandomForestClassifier()\n",
        "acc_score = []\n",
        "f1_sc = []\n",
        "precision_sc = []\n",
        "recall_sc = []\n",
        " \n",
        "n = 1\n",
        "for train_index , test_index in skf.split(X, y):\n",
        "  #print(\"TRAIN:\", train_index, \"TEST:\", test_index)\n",
        "\n",
        "  X_train , X_test = X.iloc[train_index,0:28],X.iloc[test_index,0:28]\n",
        "  y_train , y_test = y.iloc[train_index], y.iloc[test_index]\n",
        "     \n",
        "  model.fit(X_train,y_train)\n",
        "  pred_values = model.predict(X_test)\n",
        "     \n",
        "  acc = accuracy_score(pred_values , y_test)  #accuracy\n",
        "  #print(classification_report(y_test, pred_values, digits=3, target_names= target_N))\n",
        "  precision,recall,fscore,support=score(y_test, pred_values,average='macro')\n",
        "\n",
        "  print ('Results for fold #', n)\n",
        "  print ('Precision : ', precision)\n",
        "  print ('Recall    : ', recall)\n",
        "  print ('F-score   : ', fscore)\n",
        "  print ('accuracy : ', acc, '\\n')\n",
        "  n = n + 1\n",
        "\n",
        "  acc_score.append(acc)\n",
        "  f1_sc.append(fscore)\n",
        "  recall_sc.append(recall)\n",
        "  precision_sc.append(precision)   \n",
        "                  \n",
        "\n",
        "avg_acc_score = sum(acc_score)/k\n",
        "avg_f1_sc = sum(f1_sc)/k\n",
        "avg_recall_sc = sum(recall_sc)/k\n",
        "avg_precision_sc = sum(precision_sc)/k\n",
        "\n",
        "print('\\nAvg precision : {}\\n'.format(avg_precision_sc))\n",
        "\n",
        "print('Avg recall : {}\\n'.format(avg_recall_sc))\n",
        "\n",
        "print('Avg f1 score : {}\\n'.format(avg_f1_sc))\n",
        "\n",
        "print('Avg accuracy : {}\\n'.format(avg_acc_score))"
      ],
      "execution_count": null,
      "outputs": [
        {
          "output_type": "stream",
          "text": [
            "/usr/local/lib/python3.7/dist-packages/sklearn/model_selection/_split.py:296: FutureWarning: Setting a random_state has no effect since shuffle is False. This will raise an error in 0.24. You should leave random_state to its default (None), or set shuffle=True.\n",
            "  FutureWarning\n"
          ],
          "name": "stderr"
        },
        {
          "output_type": "stream",
          "text": [
            "Results for fold # 1\n",
            "Precision :  0.09979479930697131\n",
            "Recall    :  0.10566131111635446\n",
            "F-score   :  0.08885806222035078\n",
            "accuracy :  0.1362473584695807 \n",
            "\n",
            "Results for fold # 2\n",
            "Precision :  0.11168650621804306\n",
            "Recall    :  0.11326408441682016\n",
            "F-score   :  0.10514491999610345\n",
            "accuracy :  0.14892670448226003 \n",
            "\n",
            "Results for fold # 3\n",
            "Precision :  0.10903267344011862\n",
            "Recall    :  0.1098240881499222\n",
            "F-score   :  0.10256547478905204\n",
            "accuracy :  0.14280947614280948 \n",
            "\n",
            "Results for fold # 4\n",
            "Precision :  0.1136164614340568\n",
            "Recall    :  0.11387530974394755\n",
            "F-score   :  0.10610142162474535\n",
            "accuracy :  0.14972191323692993 \n",
            "\n",
            "Results for fold # 5\n",
            "Precision :  0.11440066129753618\n",
            "Recall    :  0.11481072510971563\n",
            "F-score   :  0.09899420104533513\n",
            "accuracy :  0.15595105672969967 \n",
            "\n",
            "\n",
            "Avg precision : 0.10970622033934521\n",
            "\n",
            "Avg recall : 0.11148710370735201\n",
            "\n",
            "Avg f1 score : 0.10033281593511734\n",
            "\n",
            "Avg accuracy : 0.14673130181225597\n",
            "\n"
          ],
          "name": "stdout"
        }
      ]
    }
  ]
}